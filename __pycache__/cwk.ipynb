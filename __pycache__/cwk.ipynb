{
 "metadata": {
  "language_info": {
   "codemirror_mode": {
    "name": "ipython",
    "version": 3
   },
   "file_extension": ".py",
   "mimetype": "text/x-python",
   "name": "python",
   "nbconvert_exporter": "python",
   "pygments_lexer": "ipython3",
   "version": 3
  },
  "orig_nbformat": 2
 },
 "nbformat": 4,
 "nbformat_minor": 2,
 "cells": [
  {
   "source": [
    "The code for this imaging captioning project is based on a similar project that can be found here;\n",
    "https://github.com/aladdinpersson/Machine-Learning-Collection/tree/dc7f4f4ee7b267c46e10790d9413cbb3b190ad70/ML/Pytorch/more_advanced/image_captioning\n",
    "The differences include the pre trained model from Torchvision which in our case is ResNet and we are using the MS Coco dataset"
   ],
   "cell_type": "markdown",
   "metadata": {}
  },
  {
   "cell_type": "code",
   "execution_count": null,
   "metadata": {},
   "outputs": [],
   "source": [
    "import os\n",
    "\n",
    "os.environ['KMP_DUPLICATE_LIB_OK'] = 'True'\n",
    "from train import train\n",
    "from config import Hyper, Constants\n",
    "CUDA_LAUNCH_BLOCKING=1"
   ]
  },
  {
   "cell_type": "code",
   "execution_count": null,
   "metadata": {},
   "outputs": [],
   "source": [
    "The hyperparamters including the output folders can be found in the config.py"
   ]
  },
  {
   "source": [],
   "cell_type": "markdown",
   "metadata": {}
  },
  {
   "cell_type": "code",
   "execution_count": null,
   "metadata": {},
   "outputs": [],
   "source": [
    "print(\"\\n\" * 10)\n",
    "print(\"-\" * 100)\n",
    "print(\"Start of Image Captioning\")\n",
    "Hyper.display()\n",
    "print(\"-\" * 100)\n",
    "train()\n",
    "\n",
    "print(\"\\n\" * 5)\n",
    "print(\"-\" * 100)\n",
    "Hyper.display()\n",
    "print(\"End of Image Captioning\")\n",
    "print(\"-\" * 100)"
   ]
  }
 ]
}